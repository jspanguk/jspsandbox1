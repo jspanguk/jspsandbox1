{
 "cells": [
  {
   "cell_type": "code",
   "execution_count": 98,
   "metadata": {},
   "outputs": [],
   "source": [
    "import torch\n",
    "import numpy as np\n"
   ]
  },
  {
   "cell_type": "code",
   "execution_count": null,
   "metadata": {},
   "outputs": [],
   "source": [
    "n_data = np.array([[1,2],[3,4],[5,6],[7,8]])\n",
    "n2t_data = torch.from_numpy(n_data)\n",
    "print(f\"n_data is \\n {n_data} \\n\")\n",
    "print(f\"n2t_data is \\n {n2t_data} \\n\")\n",
    "print(f\"n2t_data's tensor type is \\n {n2t_data.type()} \\n \") # type()은 텐서의 type\n",
    "print(f\"n2t_data's tpye is \\n {type(n2t_data)} \\n \") # type(객체)는 객체의 type\n",
    "print(f\"n2t_data's dtype is \\n {n2t_data.dtype} \\n \")"
   ]
  },
  {
   "cell_type": "code",
   "execution_count": null,
   "metadata": {},
   "outputs": [],
   "source": [
    "n_data = np.array([[1,2,3,4,5],[6,7,8,9,10]])\n",
    "t_data = torch.tensor(n_data)\n",
    "print(n_data)\n",
    "print(f\"t_data is \\n {t_data} \\n\")\n",
    "print(f\"t_data's tensor type is \\n {t_data.type()} \\n\")\n",
    "print(f\"t_data's type is \\n {type(t_data)} \\n \")\n",
    "print(f\"t_data's dtype is \\n {t_data.dtype} \\n \")\n",
    "l_data = t_data.type(torch.long)\n",
    "print(l_data.type())\n",
    "\n",
    "\n",
    "\n"
   ]
  },
  {
   "cell_type": "code",
   "execution_count": null,
   "metadata": {},
   "outputs": [],
   "source": [
    "data = [[1,2,3,4,5],[6,7,8,9,0]]\n",
    "t_data = torch.tensor(data,dtype=torch.int32)\n",
    "print(f\"t_data.shape is \\n {t_data.shape} \\n\")\n",
    "print(f\"t_data.reshape is \\n {t_data.reshape(2,-1)} \\n\")\n",
    "print(f\"t_data.shape is \\n {t_data.shape} \\n\")\n",
    "\n",
    "\n"
   ]
  },
  {
   "cell_type": "code",
   "execution_count": 128,
   "metadata": {},
   "outputs": [
    {
     "name": "stdout",
     "output_type": "stream",
     "text": [
      "x_data is \n",
      " tensor([[[[  0,   1,   2,   3,   4],\n",
      "          [  5,   6,   7,   8,   9],\n",
      "          [ 10,  11,  12,  13,  14],\n",
      "          [ 15,  16,  17,  18,  19]],\n",
      "\n",
      "         [[ 20,  21,  22,  23,  24],\n",
      "          [ 25,  26,  27,  28,  29],\n",
      "          [ 30,  31,  32,  33,  34],\n",
      "          [ 35,  36,  37,  38,  39]],\n",
      "\n",
      "         [[ 40,  41,  42,  43,  44],\n",
      "          [ 45,  46,  47,  48,  49],\n",
      "          [ 50,  51,  52,  53,  54],\n",
      "          [ 55,  56,  57,  58,  59]]],\n",
      "\n",
      "\n",
      "        [[[ 60,  61,  62,  63,  64],\n",
      "          [ 65,  66,  67,  68,  69],\n",
      "          [ 70,  71,  72,  73,  74],\n",
      "          [ 75,  76,  77,  78,  79]],\n",
      "\n",
      "         [[ 80,  81,  82,  83,  84],\n",
      "          [ 85,  86,  87,  88,  89],\n",
      "          [ 90,  91,  92,  93,  94],\n",
      "          [ 95,  96,  97,  98,  99]],\n",
      "\n",
      "         [[100, 101, 102, 103, 104],\n",
      "          [105, 106, 107, 108, 109],\n",
      "          [110, 111, 112, 113, 114],\n",
      "          [115, 116, 117, 118, 119]]]]) \n",
      "\n",
      "torch.sum(x_data) is \n",
      " 7140 \n",
      "\n",
      "torch.sum(x_data) is dim = 0 \n",
      " tensor([[[ 60,  62,  64,  66,  68],\n",
      "         [ 70,  72,  74,  76,  78],\n",
      "         [ 80,  82,  84,  86,  88],\n",
      "         [ 90,  92,  94,  96,  98]],\n",
      "\n",
      "        [[100, 102, 104, 106, 108],\n",
      "         [110, 112, 114, 116, 118],\n",
      "         [120, 122, 124, 126, 128],\n",
      "         [130, 132, 134, 136, 138]],\n",
      "\n",
      "        [[140, 142, 144, 146, 148],\n",
      "         [150, 152, 154, 156, 158],\n",
      "         [160, 162, 164, 166, 168],\n",
      "         [170, 172, 174, 176, 178]]]), torch.Size([3, 4, 5]) \n",
      "\n",
      "torch.sum(x_data) is dim = 1 \n",
      " tensor([[[ 60,  63,  66,  69,  72],\n",
      "         [ 75,  78,  81,  84,  87],\n",
      "         [ 90,  93,  96,  99, 102],\n",
      "         [105, 108, 111, 114, 117]],\n",
      "\n",
      "        [[240, 243, 246, 249, 252],\n",
      "         [255, 258, 261, 264, 267],\n",
      "         [270, 273, 276, 279, 282],\n",
      "         [285, 288, 291, 294, 297]]]), torch.Size([2, 4, 5]) \n",
      "\n",
      "torch.sum(x_data) is dim = 2 \n",
      " tensor([[[ 30,  34,  38,  42,  46],\n",
      "         [110, 114, 118, 122, 126],\n",
      "         [190, 194, 198, 202, 206]],\n",
      "\n",
      "        [[270, 274, 278, 282, 286],\n",
      "         [350, 354, 358, 362, 366],\n",
      "         [430, 434, 438, 442, 446]]]), torch.Size([2, 3, 5]) \n",
      "\n",
      "torch.sum(x_data) is dim = 3 \n",
      " tensor([[[ 10,  35,  60,  85],\n",
      "         [110, 135, 160, 185],\n",
      "         [210, 235, 260, 285]],\n",
      "\n",
      "        [[310, 335, 360, 385],\n",
      "         [410, 435, 460, 485],\n",
      "         [510, 535, 560, 585]]]), torch.Size([2, 3, 4]) \n",
      "\n"
     ]
    }
   ],
   "source": [
    "x_data = torch.arange(2*3*4*5).reshape(2,3,4,5)\n",
    "print(f\"x_data is \\n {x_data} \\n\")\n",
    "\n",
    "print(f\"torch.sum(x_data) is \\n {torch.sum(x_data)} \\n\")\n",
    "print(f\"torch.sum(x_data) is dim = 0 \\n {torch.sum(x_data, dim = 0)}, {torch.sum(x_data, dim = 0).shape} \\n\")\n",
    "print(f\"torch.sum(x_data) is dim = 1 \\n {torch.sum(x_data, dim = 1)}, {torch.sum(x_data, dim = 1).shape} \\n\")\n",
    "print(f\"torch.sum(x_data) is dim = 2 \\n {torch.sum(x_data, dim = 2)}, {torch.sum(x_data, dim = 2).shape} \\n\")\n",
    "print(f\"torch.sum(x_data) is dim = 3 \\n {torch.sum(x_data, dim = 3)}, {torch.sum(x_data, dim = 3).shape} \\n\")\n",
    "\n",
    "\n",
    "\n",
    "\n",
    "\n",
    "\n",
    "\n"
   ]
  },
  {
   "cell_type": "code",
   "execution_count": null,
   "metadata": {},
   "outputs": [],
   "source": []
  }
 ],
 "metadata": {
  "kernelspec": {
   "display_name": "Python 3.9.13 ('lawboto')",
   "language": "python",
   "name": "python3"
  },
  "language_info": {
   "codemirror_mode": {
    "name": "ipython",
    "version": 3
   },
   "file_extension": ".py",
   "mimetype": "text/x-python",
   "name": "python",
   "nbconvert_exporter": "python",
   "pygments_lexer": "ipython3",
   "version": "3.9.13"
  },
  "orig_nbformat": 4,
  "vscode": {
   "interpreter": {
    "hash": "cd46718e6bb4835b306234a061b0dbde8f47813339e2874b919b1a11634ac550"
   }
  }
 },
 "nbformat": 4,
 "nbformat_minor": 2
}
