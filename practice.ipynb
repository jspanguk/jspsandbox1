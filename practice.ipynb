{
 "cells": [
  {
   "cell_type": "code",
   "execution_count": 1,
   "metadata": {},
   "outputs": [
    {
     "name": "stdout",
     "output_type": "stream",
     "text": [
      "입력값 총합 :  6\n",
      "입력값 평균 :  2.0\n"
     ]
    }
   ],
   "source": [
    "\n",
    "def list_gen(): # input: empty / output: list of int\n",
    "    score_list = list()\n",
    "    while True:\n",
    "        inputed = int(input(\"정수를 입력하세요. 반복문을 빠져나가시려면 '0'을 입력하세요. 그리고 엔터키를 누르세요: \"))\n",
    "        \n",
    "        if inputed != 0:\n",
    "            score_list.append(inputed)\n",
    "        \n",
    "        else:\n",
    "            break\n",
    "    return score_list\n",
    "\n",
    "\n",
    "\n",
    "def avg_gen(score_list): # input: list of int / output: tuple of int\n",
    "    sum = 0\n",
    "    for x in score_list:\n",
    "        sum = sum + x\n",
    "    return (sum , len(score_list))\n",
    "\n",
    "\n",
    "\n",
    "def main() :\n",
    "    a = list_gen()\n",
    "    b = avg_gen(a)\n",
    "\n",
    "    print(\"입력값 총합 : \", str(b[0]))\n",
    "    print(\"입력값 평균 : \", str(b[0]/b[1]))\n",
    "\n",
    "if __name__ == \"__main__\" :\n",
    "    main()\n",
    "\n",
    "\n",
    "\n",
    "\n",
    "\n"
   ]
  },
  {
   "cell_type": "code",
   "execution_count": 7,
   "metadata": {},
   "outputs": [
    {
     "name": "stdout",
     "output_type": "stream",
     "text": [
      "정수 총합 : 10\n",
      "정수 평균 : 2.5\n"
     ]
    }
   ],
   "source": [
    "class score() :\n",
    "\n",
    "    def list_gen(self) :\n",
    "        score_list = list()\n",
    "        while True :\n",
    "            r = int(input(\"정수를 입력하세요, '0'입력시 종료 : \"))\n",
    "\n",
    "            if r == 0 :\n",
    "                break\n",
    "            score_list.append(r)\n",
    "        return score_list\n",
    "\n",
    "    def avg_gen(self, list_gen) :\n",
    "        sum = 0\n",
    "        for i in list_gen :\n",
    "            sum = sum + i\n",
    "        return (sum , len(list_gen))\n",
    "\n",
    "def main() :\n",
    "    s = score()\n",
    "    a = s.list_gen()\n",
    "    b = s.avg_gen(a)\n",
    "    print(\"정수 총합 :\", str(b[0]))\n",
    "    print(\"정수 평균 :\", str(b[0]/b[1]))\n",
    "\n",
    "\n",
    "\n",
    "if __name__ == \"__main__\" :\n",
    "    main()\n"
   ]
  },
  {
   "cell_type": "code",
   "execution_count": 3,
   "metadata": {},
   "outputs": [
    {
     "name": "stdout",
     "output_type": "stream",
     "text": [
      "정수 총합 : 15\n",
      "정수 평균 : 3.0\n"
     ]
    }
   ],
   "source": [
    "class score() :\n",
    "\n",
    "    def __init__(self) :  # __init__을 정의하여 클래스가 실행되는 순간 아래의 코드블럭을 실행함.\n",
    "        \n",
    "\n",
    "        a = list_gen()\n",
    "        b = avg_gen(a)\n",
    "\n",
    "        print(\"정수 총합 :\", b[0])\n",
    "        print(\"정수 평균 :\", b[0]/b[1])\n",
    "        \n",
    "\n",
    "    def list_gen(self) :\n",
    "        score_list = list()   #리스트 생성 \n",
    "        while True :\n",
    "            r = int(input(\"정수를 입력하세요, '0'입력시 종료 : \")) # 리스트에 추가할 인자를 정수로 입력\n",
    "            if r == 0 : \n",
    "                break\n",
    "\n",
    "            score_list.append(r)   # 반복문으로 입력한 정수를 리스트에 추가\n",
    "        return score_list  # 리스트를 반환\n",
    "    \n",
    "    def avg_gen(self, list_gen) : # list_gen \n",
    "        sum = 0\n",
    "        for i in list_gen() : # list_gen을 for 반복문의 범위로 참조함\n",
    "            sum = sum + i\n",
    "\n",
    "        return (sum, len(list_gen())) #list_gen의 인자를 반복하여 sum에 더한 후 반복문이 끝나면 sum 값 반환, len함수를 사용하여 list_gen의 인자개수를 반환 \n",
    "\n",
    "if __name__ == \"__main__\" : # 네임스페이스가 __main__인경우 score 클래스를 실행\n",
    "    score()\n",
    "\n",
    "\n",
    "    \n"
   ]
  },
  {
   "cell_type": "code",
   "execution_count": 40,
   "metadata": {},
   "outputs": [
    {
     "name": "stdout",
     "output_type": "stream",
     "text": [
      "naver;kakao;sk;samsung\n",
      "naver/kakao/sk/samsung\n",
      "first second\n"
     ]
    }
   ],
   "source": [
    "class score() :\n",
    "\n",
    "    def list_gen(self) :\n",
    "        cscore_list = list()\n",
    "        for i in range(int(input(\"반복횟수를 입력해주세요 : \"))) :\n",
    "            score_list = list()\n",
    "            while True :\n",
    "                r = int(input(\"점수를 입력해주세요. '0'입력시 프로그램 종료\"))\n",
    "                if r == 0 :\n",
    "                    break\n",
    "                \n",
    "\n"
   ]
  },
  {
   "cell_type": "code",
   "execution_count": 11,
   "metadata": {},
   "outputs": [
    {
     "name": "stdout",
     "output_type": "stream",
     "text": [
      "dict_json2\n",
      "{'id': [1, 2, 3, 4], 'username': ['박준성', '박준택', '밤이', '껄룩이'], 'email': ['steepcastle@naver.com', 'steepcastle2@naver.com', 'steepcastle3@naver.com', 'steepcastle4@naver.com'], 'address': ['율곡로', 'Apt. 556', '서울', '92998-384']}\n",
      "\n",
      "\n",
      "         id username                   email    address\n",
      "ciry      1      박준성   steepcastle@naver.com        율곡로\n",
      "street    2      박준택  steepcastle2@naver.com   Apt. 556\n",
      "suite     3       밤이  steepcastle3@naver.com         서울\n",
      "zipcode   4      껄룩이  steepcastle4@naver.com  92998-384\n",
      "\n",
      "\n",
      "신원 확인    id username                   email    address\n",
      "주소 분류                                                  \n",
      "ciry      1      박준성   steepcastle@naver.com        율곡로\n",
      "street    2      박준택  steepcastle2@naver.com   Apt. 556\n",
      "suite     3       밤이  steepcastle3@naver.com         서울\n",
      "zipcode   4      껄룩이  steepcastle4@naver.com  92998-384\n"
     ]
    }
   ],
   "source": [
    "import json\n",
    "import pandas as pd\n",
    "import pickle\n",
    "\n",
    "\n",
    "\n",
    "dict_json2 = {       \n",
    "\n",
    "    \"id\": [1,2,3,4],\n",
    "    \"username\": [\"박준성\",\"박준택\",\"밤이\",\"껄룩이\"],\n",
    "    \"email\": [\"steepcastle@naver.com\",\"steepcastle2@naver.com\",\"steepcastle3@naver.com\",\"steepcastle4@naver.com\"],\n",
    "    \"address\": [\"율곡로\", \"Apt. 556\", \"서울\", \"92998-384\"]\n",
    "\n",
    "}\n",
    "\n",
    "\n",
    "print(\"dict_json2\")\n",
    "print(dict_json2)\n",
    "print('\\n')\n",
    "\n",
    "dict_to_df = pd.DataFrame(dict_json2, index=['ciry', 'street', 'suite', 'zipcode'])\n",
    "print(dict_to_df)\n",
    "\n",
    "dict_to_df.index.name = '주소 분류'\n",
    "dict_to_df.columns.name = '신원 확인'\n",
    "print('\\n')\n",
    "print(dict_to_df)"
   ]
  }
 ],
 "metadata": {
  "kernelspec": {
   "display_name": "Python 3.9.12 ('base')",
   "language": "python",
   "name": "python3"
  },
  "language_info": {
   "codemirror_mode": {
    "name": "ipython",
    "version": 3
   },
   "file_extension": ".py",
   "mimetype": "text/x-python",
   "name": "python",
   "nbconvert_exporter": "python",
   "pygments_lexer": "ipython3",
   "version": "3.9.12"
  },
  "orig_nbformat": 4,
  "vscode": {
   "interpreter": {
    "hash": "ad2bdc8ecc057115af97d19610ffacc2b4e99fae6737bb82f5d7fb13d2f2c186"
   }
  }
 },
 "nbformat": 4,
 "nbformat_minor": 2
}
